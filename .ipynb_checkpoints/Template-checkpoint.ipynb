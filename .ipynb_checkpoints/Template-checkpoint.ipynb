{
 "cells": [
  {
   "cell_type": "markdown",
   "metadata": {
    "colab_type": "text",
    "id": "view-in-github"
   },
   "source": [
    "<a href=\"https://colab.research.google.com/github/Madund3ad/Association/blob/main/Template.ipynb\" target=\"_parent\"><img src=\"https://colab.research.google.com/assets/colab-badge.svg\" alt=\"Open In Colab\"/></a>"
   ]
  },
  {
   "cell_type": "markdown",
   "metadata": {
    "id": "KxOOaRe6HexZ"
   },
   "source": [
    "##Association"
   ]
  },
  {
   "cell_type": "code",
   "execution_count": 1,
   "metadata": {
    "tags": []
   },
   "outputs": [
    {
     "name": "stdout",
     "output_type": "stream",
     "text": [
      "R version 4.3.2 (2023-10-31) -- \"Eye Holes\"\n",
      "Copyright (C) 2023 The R Foundation for Statistical Computing\n",
      "Platform: x86_64-pc-linux-gnu (64-bit)\n",
      "\n",
      "R is free software and comes with ABSOLUTELY NO WARRANTY.\n",
      "You are welcome to redistribute it under the terms of the\n",
      "GNU General Public License versions 2 or 3.\n",
      "For more information about these matters see\n",
      "https://www.gnu.org/licenses/.\n",
      "\n"
     ]
    }
   ],
   "source": [
    "!R --version"
   ]
  },
  {
   "cell_type": "code",
   "execution_count": 2,
   "metadata": {
    "id": "TalAWZMHmIhn",
    "tags": []
   },
   "outputs": [],
   "source": [
    "import ipywidgets as widgets\n",
    "import sys\n",
    "\n",
    "from pathlib import Path"
   ]
  },
  {
   "cell_type": "code",
   "execution_count": 3,
   "metadata": {
    "id": "J39uVQq0nOmu",
    "tags": []
   },
   "outputs": [],
   "source": [
    "%load_ext rpy2.ipython"
   ]
  },
  {
   "cell_type": "markdown",
   "metadata": {},
   "source": [
    "Пути к файлам"
   ]
  },
  {
   "cell_type": "code",
   "execution_count": 5,
   "metadata": {
    "id": "el6yfVsSlnsD",
    "tags": []
   },
   "outputs": [],
   "source": [
    "# Changeable\n",
    "PATH_TO_INPUT_BED_DIR = Path(\"./input/\")\n",
    "PATH_TO_INPUT_GENOME_DIR = Path(\"./genome/\")"
   ]
  },
  {
   "cell_type": "markdown",
   "metadata": {
    "id": "6c_NKUtmtLb8"
   },
   "source": [
    "Загрузка файлов с аннотацией в формате bed"
   ]
  },
  {
   "cell_type": "code",
   "execution_count": 6,
   "metadata": {
    "colab": {
     "base_uri": "https://localhost:8080/",
     "height": 49,
     "referenced_widgets": [
      "0b373d530f0e48fb8fa541f52bff3ae5",
      "db65f7ae2aa9491ba2375000f0633ec0",
      "53d3933b678e483e8aa4ea1072f25e4b"
     ]
    },
    "id": "UODPo3c5k4BQ",
    "outputId": "96409ed7-3525-4b26-8689-61e79b51b3aa",
    "tags": []
   },
   "outputs": [
    {
     "data": {
      "application/vnd.jupyter.widget-view+json": {
       "model_id": "eae799e5dc4940bbb71c118b9871d869",
       "version_major": 2,
       "version_minor": 0
      },
      "text/plain": [
       "FileUpload(value=(), accept='.bed', description='Upload', multiple=True)"
      ]
     },
     "metadata": {},
     "output_type": "display_data"
    }
   ],
   "source": [
    "upload_annotation = widgets.FileUpload(\n",
    "    accept='.bed',\n",
    "    multiple=True\n",
    ")\n",
    "display(upload_annotation)"
   ]
  },
  {
   "cell_type": "code",
   "execution_count": 7,
   "metadata": {
    "id": "KoHJqGnOl-Wf",
    "tags": []
   },
   "outputs": [],
   "source": [
    "#DATA_DIR_NAME = list(upload_annotation.value)[0].rsplit('.', maxsplit=2)[0]\n",
    "for filename in upload_annotation.value:\n",
    "  path_to_input_file = (\n",
    "      PATH_TO_INPUT_BED_DIR / filename['name']\n",
    "  )\n",
    "  path_to_input_file.parent.mkdir(parents=True, exist_ok=True)\n",
    "  with open(path_to_input_file, 'wb') as f_out:\n",
    "    content = filename['content']\n",
    "    f_out.write(content)"
   ]
  },
  {
   "cell_type": "code",
   "execution_count": 8,
   "metadata": {
    "colab": {
     "base_uri": "https://localhost:8080/"
    },
    "id": "crtrTHPdv0Xs",
    "outputId": "34357ca2-e50b-419c-d983-e2ea84f71017",
    "tags": []
   },
   "outputs": [
    {
     "name": "stdout",
     "output_type": "stream",
     "text": [
      "Аnnotation \"f2.bed\" was successfullly uploaded.\n",
      "Аnnotation \"f1.bed\" was successfullly uploaded.\n"
     ]
    }
   ],
   "source": [
    "for uploaded_filename in upload_annotation.value:\n",
    "  print(f\"Аnnotation \\\"{uploaded_filename['name']}\\\" was successfullly uploaded.\")"
   ]
  },
  {
   "cell_type": "markdown",
   "metadata": {
    "id": "sX6VA-a2tQmX"
   },
   "source": [
    "Загрузка файла с размерами хромосом"
   ]
  },
  {
   "cell_type": "code",
   "execution_count": 9,
   "metadata": {
    "colab": {
     "base_uri": "https://localhost:8080/",
     "height": 49,
     "referenced_widgets": [
      "30ae7ad9af3b4005a1a2d94f30ae2fb1",
      "32bea449639648d4af64d8707f54289c",
      "43a319180ddb4242828272ca4b4e6992"
     ]
    },
    "id": "-ewEuvttoG6D",
    "outputId": "3d80c408-ae5b-4ef5-97d4-1d6e2abedd59",
    "tags": []
   },
   "outputs": [
    {
     "data": {
      "application/vnd.jupyter.widget-view+json": {
       "model_id": "4a6e3199e6954fbabf5dfae493cf10ba",
       "version_major": 2,
       "version_minor": 0
      },
      "text/plain": [
       "FileUpload(value=(), accept='.txt', description='Upload')"
      ]
     },
     "metadata": {},
     "output_type": "display_data"
    }
   ],
   "source": [
    "upload_chrom = widgets.FileUpload(\n",
    "    accept='.txt',\n",
    "    multiple=False\n",
    ")\n",
    "\n",
    "display(upload_chrom)"
   ]
  },
  {
   "cell_type": "code",
   "execution_count": 10,
   "metadata": {
    "id": "uspWcGvWoseN",
    "tags": []
   },
   "outputs": [],
   "source": [
    "chrom=list(upload_chrom.value)[0]\n",
    "path_to_input_file = (\n",
    "      PATH_TO_INPUT_GENOME_DIR / chrom['name'])\n",
    "path_to_input_file.parent.mkdir(parents=True, exist_ok=True)\n",
    "with open(path_to_input_file, 'wb') as f_out:\n",
    "    content = chrom['content']\n",
    "    f_out.write(content)"
   ]
  },
  {
   "cell_type": "code",
   "execution_count": 11,
   "metadata": {
    "colab": {
     "base_uri": "https://localhost:8080/"
    },
    "id": "8QBlIZPMv7e8",
    "outputId": "5b0240a6-f32f-4e17-e752-53b6de2b08a2",
    "tags": []
   },
   "outputs": [
    {
     "name": "stdout",
     "output_type": "stream",
     "text": [
      "Chrom sizes file \"hg19.chrom.sizes.txt\" was successfullly uploaded.\n"
     ]
    }
   ],
   "source": [
    "for uploaded_filename in upload_chrom.value:\n",
    "  print(f\"Chrom sizes file \\\"{uploaded_filename['name']}\\\" was successfullly uploaded.\")"
   ]
  },
  {
   "cell_type": "markdown",
   "metadata": {
    "id": "YJZl6WpMtb2d"
   },
   "source": [
    "Запуск модуля с параметрами по-умолчанию"
   ]
  },
  {
   "cell_type": "code",
   "execution_count": 12,
   "metadata": {
    "tags": []
   },
   "outputs": [
    {
     "data": {
      "text/plain": [
       "{'name': 'hg19.chrom.sizes.txt',\n",
       " 'type': 'text/plain',\n",
       " 'size': 30,\n",
       " 'content': <memory at 0x7f771d4cba00>,\n",
       " 'last_modified': datetime.datetime(2023, 12, 10, 23, 9, 17, 995000, tzinfo=datetime.timezone.utc)}"
      ]
     },
     "execution_count": 12,
     "metadata": {},
     "output_type": "execute_result"
    }
   ],
   "source": [
    "chrom"
   ]
  },
  {
   "cell_type": "code",
   "execution_count": 13,
   "metadata": {
    "colab": {
     "base_uri": "https://localhost:8080/"
    },
    "id": "002IMJjuppkF",
    "outputId": "4063d2d7-643c-4e0c-9d97-9d02cd0028e0",
    "tags": []
   },
   "outputs": [
    {
     "name": "stdout",
     "output_type": "stream",
     "text": [
      "Usage: ./Association/main_assoc.R [options]\n",
      "\n",
      "\n",
      "Options:\n",
      "\t-i <INPUT DIR>, --dir=<INPUT DIR>\n",
      "\t\tpath to input folder with bed files\n",
      "\n",
      "\t-o <PATH>, --out=<PATH>\n",
      "\t\toutput files directory [default= NULL]\n",
      "\n",
      "\t-g <GENOME.GTF>, --genome=<GENOME.GTF>\n",
      "\t\tpath to genome annotation file\n",
      "\n",
      "\t-c CHROM.SIZES, --chrom=CHROM.SIZES\n",
      "\t\tpath to chrom sizes file\n",
      "\n",
      "\t-v, --verbose\n",
      "\t\tverbosity level [default= FALSE]\n",
      "\n",
      "\t-p, --simulate\n",
      "\t\tenable simulated p-value\n",
      "\n",
      "\t-n NUMERIC, --nsim=NUMERIC\n",
      "\t\tnumber of simulations [default= 1000]\n",
      "\n",
      "\t-m CHARACTER, --mode=CHARACTER\n",
      "\t\tset scoring mode\n",
      "              region - use number of overlapping regions \n",
      "              bp - use overlap size \n",
      "              weighted_bp use score column\n",
      "\n",
      "\t-s, --strand\n",
      "\t\ttake strand into consideration\n",
      "\n",
      "\t-t CHARACTER, --target=CHARACTER\n",
      "\t\tpath to target file in one vs many mode\n",
      "\n",
      "\t-k MASK.BED, --mask=MASK.BED\n",
      "\t\tpath to mask file\n",
      "\n",
      "\t-h, --help\n",
      "\t\tShow this help message and exit\n",
      "\n",
      "\n",
      "genome file is not suppliedUsing parameters:\n",
      "dir = ./input/ \n",
      "out = ./output \n",
      "chrom = ./genome/hg19.chrom.sizes.txt \n",
      "verbose = FALSE \n",
      "simulate = FALSE \n",
      "nsim = 1000 \n",
      "mode = region \n",
      "strand = FALSE \n",
      "help = FALSE \n",
      "\u001b[?25h\u001b[?25h\u001b[?25h\u001b[?25h\u001b[?25h\u001b[?25h\u001b[?25h\u001b[?25h\u001b[?25h\u001b[?25h\u001b[?25h\u001b[?25h\u001b[?25h\u001b[?25h\u001b[?25h\u001b[?25h\u001b[?25h\u001b[?25h\u001b[?25h[1] \"2023-12-12 04:36:27.710676 Starting in many vs many mode\"\n",
      "Warning messages:\n",
      "1: In read.table(file = file, header = header, sep = sep, quote = quote,  :\n",
      "  incomplete final line found by readTableHeader on './genome/hg19.chrom.sizes.txt'\n",
      "2: In chisq.test(m, simulate.p.value = simulate.p.value) :\n",
      "  Chi-squared approximation may be incorrect\n",
      "3: In read.table(file = file, header = header, sep = sep, quote = quote,  :\n",
      "  incomplete final line found by readTableHeader on './genome/hg19.chrom.sizes.txt'\n",
      "4: In chisq.test(m, simulate.p.value = simulate.p.value) :\n",
      "  Chi-squared approximation may be incorrect\n",
      "\u001b[?25h\u001b[?25h\u001b[?25h\u001b[?25h\u001b[?25h\u001b[?25h\u001b[?25h\u001b[?25h\u001b[?25h"
     ]
    }
   ],
   "source": [
    "!Rscript ./Association/main_assoc.R -i ./input/ -o ./output -c ./genome/{chrom['name']}"
   ]
  },
  {
   "cell_type": "markdown",
   "metadata": {
    "id": "MeuQqwrAtmf8"
   },
   "source": [
    "Вывод результатов"
   ]
  },
  {
   "cell_type": "code",
   "execution_count": 15,
   "metadata": {
    "colab": {
     "base_uri": "https://localhost:8080/"
    },
    "id": "bcKq4hfBsYLb",
    "outputId": "9134438c-8118-41e2-f8d0-a82ef8d39e32",
    "tags": []
   },
   "outputs": [
    {
     "name": "stdout",
     "output_type": "stream",
     "text": [
      "file_name\tf1\tf1_pr\tf1_p\tf2\tf2_pr\tf2_p\n",
      "f1\t2\t100 %\t-\t1\t50 %\t0\n",
      "f2\t1\t50 %\t0\t2\t100 %\t-\n"
     ]
    }
   ],
   "source": [
    "!cat ./output/results.csv"
   ]
  },
  {
   "cell_type": "markdown",
   "metadata": {
    "id": "YwcHO-BdHoDR"
   },
   "source": [
    "Arguments\n",
    "\n",
    "    -i , --dir\n",
    "            path to folder with bed files\n",
    "    -o , --out\n",
    "            output files directory [default= NULL]\n",
    "    -g , --genome\n",
    "            path to genome file\n",
    "    -c , --chrom\n",
    "            path to chrom sizes file\n",
    "    -v, --verbose\n",
    "            verbosity level [default= FALSE]\n",
    "    -p, --simulate\n",
    "            enable simulated p-value\n",
    "    -n NUMERIC, --nsim=NUMERIC\n",
    "            number of simulations [default= 1000]\n",
    "    -m CHARACTER, --mode=CHARACTER\n",
    "            set scoring mode\n",
    "          region - use number of overlapping regions (default)\n",
    "          bp - use overlap size\n",
    "          weighted_bp use score column\n",
    "    -s , --strand\n",
    "            ignore strands\n",
    "    -t , --target\n",
    "            path to target file in one vs many mode\n",
    "    -h, --help\n",
    "            Show this help message and exit"
   ]
  }
 ],
 "metadata": {
  "colab": {
   "authorship_tag": "ABX9TyNvSV9mHU5gztd371Vm1LSM",
   "include_colab_link": true,
   "provenance": []
  },
  "kernelspec": {
   "display_name": "Python 3 (ipykernel)",
   "language": "python",
   "name": "python3"
  },
  "language_info": {
   "codemirror_mode": {
    "name": "ipython",
    "version": 3
   },
   "file_extension": ".py",
   "mimetype": "text/x-python",
   "name": "python",
   "nbconvert_exporter": "python",
   "pygments_lexer": "ipython3",
   "version": "3.11.5"
  },
  "widgets": {
   "application/vnd.jupyter.widget-state+json": {
    "0b373d530f0e48fb8fa541f52bff3ae5": {
     "model_module": "@jupyter-widgets/controls",
     "model_module_version": "1.5.0",
     "model_name": "FileUploadModel",
     "state": {
      "_counter": 2,
      "_dom_classes": [],
      "_model_module": "@jupyter-widgets/controls",
      "_model_module_version": "1.5.0",
      "_model_name": "FileUploadModel",
      "_view_count": null,
      "_view_module": "@jupyter-widgets/controls",
      "_view_module_version": "1.5.0",
      "_view_name": "FileUploadView",
      "accept": ".bed",
      "button_style": "",
      "data": [
       null,
       null
      ],
      "description": "Upload",
      "description_tooltip": null,
      "disabled": false,
      "error": "",
      "icon": "upload",
      "layout": "IPY_MODEL_db65f7ae2aa9491ba2375000f0633ec0",
      "metadata": [
       {
        "lastModified": 1685875157085,
        "name": "f1.bed",
        "size": 20,
        "type": ""
       },
       {
        "lastModified": 1685875186068,
        "name": "f2.bed",
        "size": 21,
        "type": ""
       }
      ],
      "multiple": true,
      "style": "IPY_MODEL_53d3933b678e483e8aa4ea1072f25e4b"
     }
    },
    "30ae7ad9af3b4005a1a2d94f30ae2fb1": {
     "model_module": "@jupyter-widgets/controls",
     "model_module_version": "1.5.0",
     "model_name": "FileUploadModel",
     "state": {
      "_counter": 1,
      "_dom_classes": [],
      "_model_module": "@jupyter-widgets/controls",
      "_model_module_version": "1.5.0",
      "_model_name": "FileUploadModel",
      "_view_count": null,
      "_view_module": "@jupyter-widgets/controls",
      "_view_module_version": "1.5.0",
      "_view_name": "FileUploadView",
      "accept": ".txt",
      "button_style": "",
      "data": [
       null
      ],
      "description": "Upload",
      "description_tooltip": null,
      "disabled": false,
      "error": "",
      "icon": "upload",
      "layout": "IPY_MODEL_32bea449639648d4af64d8707f54289c",
      "metadata": [
       {
        "lastModified": 1687947484087,
        "name": "hg19.chrom.sizes.txt",
        "size": 30,
        "type": "text/plain"
       }
      ],
      "multiple": false,
      "style": "IPY_MODEL_43a319180ddb4242828272ca4b4e6992"
     }
    },
    "32bea449639648d4af64d8707f54289c": {
     "model_module": "@jupyter-widgets/base",
     "model_module_version": "1.2.0",
     "model_name": "LayoutModel",
     "state": {
      "_model_module": "@jupyter-widgets/base",
      "_model_module_version": "1.2.0",
      "_model_name": "LayoutModel",
      "_view_count": null,
      "_view_module": "@jupyter-widgets/base",
      "_view_module_version": "1.2.0",
      "_view_name": "LayoutView",
      "align_content": null,
      "align_items": null,
      "align_self": null,
      "border": null,
      "bottom": null,
      "display": null,
      "flex": null,
      "flex_flow": null,
      "grid_area": null,
      "grid_auto_columns": null,
      "grid_auto_flow": null,
      "grid_auto_rows": null,
      "grid_column": null,
      "grid_gap": null,
      "grid_row": null,
      "grid_template_areas": null,
      "grid_template_columns": null,
      "grid_template_rows": null,
      "height": null,
      "justify_content": null,
      "justify_items": null,
      "left": null,
      "margin": null,
      "max_height": null,
      "max_width": null,
      "min_height": null,
      "min_width": null,
      "object_fit": null,
      "object_position": null,
      "order": null,
      "overflow": null,
      "overflow_x": null,
      "overflow_y": null,
      "padding": null,
      "right": null,
      "top": null,
      "visibility": null,
      "width": null
     }
    },
    "43a319180ddb4242828272ca4b4e6992": {
     "model_module": "@jupyter-widgets/controls",
     "model_module_version": "1.5.0",
     "model_name": "ButtonStyleModel",
     "state": {
      "_model_module": "@jupyter-widgets/controls",
      "_model_module_version": "1.5.0",
      "_model_name": "ButtonStyleModel",
      "_view_count": null,
      "_view_module": "@jupyter-widgets/base",
      "_view_module_version": "1.2.0",
      "_view_name": "StyleView",
      "button_color": null,
      "font_weight": ""
     }
    },
    "53d3933b678e483e8aa4ea1072f25e4b": {
     "model_module": "@jupyter-widgets/controls",
     "model_module_version": "1.5.0",
     "model_name": "ButtonStyleModel",
     "state": {
      "_model_module": "@jupyter-widgets/controls",
      "_model_module_version": "1.5.0",
      "_model_name": "ButtonStyleModel",
      "_view_count": null,
      "_view_module": "@jupyter-widgets/base",
      "_view_module_version": "1.2.0",
      "_view_name": "StyleView",
      "button_color": null,
      "font_weight": ""
     }
    },
    "db65f7ae2aa9491ba2375000f0633ec0": {
     "model_module": "@jupyter-widgets/base",
     "model_module_version": "1.2.0",
     "model_name": "LayoutModel",
     "state": {
      "_model_module": "@jupyter-widgets/base",
      "_model_module_version": "1.2.0",
      "_model_name": "LayoutModel",
      "_view_count": null,
      "_view_module": "@jupyter-widgets/base",
      "_view_module_version": "1.2.0",
      "_view_name": "LayoutView",
      "align_content": null,
      "align_items": null,
      "align_self": null,
      "border": null,
      "bottom": null,
      "display": null,
      "flex": null,
      "flex_flow": null,
      "grid_area": null,
      "grid_auto_columns": null,
      "grid_auto_flow": null,
      "grid_auto_rows": null,
      "grid_column": null,
      "grid_gap": null,
      "grid_row": null,
      "grid_template_areas": null,
      "grid_template_columns": null,
      "grid_template_rows": null,
      "height": null,
      "justify_content": null,
      "justify_items": null,
      "left": null,
      "margin": null,
      "max_height": null,
      "max_width": null,
      "min_height": null,
      "min_width": null,
      "object_fit": null,
      "object_position": null,
      "order": null,
      "overflow": null,
      "overflow_x": null,
      "overflow_y": null,
      "padding": null,
      "right": null,
      "top": null,
      "visibility": null,
      "width": null
     }
    }
   }
  }
 },
 "nbformat": 4,
 "nbformat_minor": 4
}
