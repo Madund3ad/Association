{
  "nbformat": 4,
  "nbformat_minor": 0,
  "metadata": {
    "colab": {
      "provenance": [],
      "authorship_tag": "ABX9TyNvSV9mHU5gztd371Vm1LSM",
      "include_colab_link": true
    },
    "kernelspec": {
      "name": "python3",
      "display_name": "Python 3"
    },
    "language_info": {
      "name": "python"
    },
    "widgets": {
      "application/vnd.jupyter.widget-state+json": {
        "0b373d530f0e48fb8fa541f52bff3ae5": {
          "model_module": "@jupyter-widgets/controls",
          "model_name": "FileUploadModel",
          "model_module_version": "1.5.0",
          "state": {
            "_counter": 2,
            "_dom_classes": [],
            "_model_module": "@jupyter-widgets/controls",
            "_model_module_version": "1.5.0",
            "_model_name": "FileUploadModel",
            "_view_count": null,
            "_view_module": "@jupyter-widgets/controls",
            "_view_module_version": "1.5.0",
            "_view_name": "FileUploadView",
            "accept": ".bed",
            "button_style": "",
            "data": [
              null,
              null
            ],
            "description": "Upload",
            "description_tooltip": null,
            "disabled": false,
            "error": "",
            "icon": "upload",
            "layout": "IPY_MODEL_db65f7ae2aa9491ba2375000f0633ec0",
            "metadata": [
              {
                "name": "f1.bed",
                "type": "",
                "size": 20,
                "lastModified": 1685875157085
              },
              {
                "name": "f2.bed",
                "type": "",
                "size": 21,
                "lastModified": 1685875186068
              }
            ],
            "multiple": true,
            "style": "IPY_MODEL_53d3933b678e483e8aa4ea1072f25e4b"
          }
        },
        "db65f7ae2aa9491ba2375000f0633ec0": {
          "model_module": "@jupyter-widgets/base",
          "model_name": "LayoutModel",
          "model_module_version": "1.2.0",
          "state": {
            "_model_module": "@jupyter-widgets/base",
            "_model_module_version": "1.2.0",
            "_model_name": "LayoutModel",
            "_view_count": null,
            "_view_module": "@jupyter-widgets/base",
            "_view_module_version": "1.2.0",
            "_view_name": "LayoutView",
            "align_content": null,
            "align_items": null,
            "align_self": null,
            "border": null,
            "bottom": null,
            "display": null,
            "flex": null,
            "flex_flow": null,
            "grid_area": null,
            "grid_auto_columns": null,
            "grid_auto_flow": null,
            "grid_auto_rows": null,
            "grid_column": null,
            "grid_gap": null,
            "grid_row": null,
            "grid_template_areas": null,
            "grid_template_columns": null,
            "grid_template_rows": null,
            "height": null,
            "justify_content": null,
            "justify_items": null,
            "left": null,
            "margin": null,
            "max_height": null,
            "max_width": null,
            "min_height": null,
            "min_width": null,
            "object_fit": null,
            "object_position": null,
            "order": null,
            "overflow": null,
            "overflow_x": null,
            "overflow_y": null,
            "padding": null,
            "right": null,
            "top": null,
            "visibility": null,
            "width": null
          }
        },
        "53d3933b678e483e8aa4ea1072f25e4b": {
          "model_module": "@jupyter-widgets/controls",
          "model_name": "ButtonStyleModel",
          "model_module_version": "1.5.0",
          "state": {
            "_model_module": "@jupyter-widgets/controls",
            "_model_module_version": "1.5.0",
            "_model_name": "ButtonStyleModel",
            "_view_count": null,
            "_view_module": "@jupyter-widgets/base",
            "_view_module_version": "1.2.0",
            "_view_name": "StyleView",
            "button_color": null,
            "font_weight": ""
          }
        },
        "30ae7ad9af3b4005a1a2d94f30ae2fb1": {
          "model_module": "@jupyter-widgets/controls",
          "model_name": "FileUploadModel",
          "model_module_version": "1.5.0",
          "state": {
            "_counter": 1,
            "_dom_classes": [],
            "_model_module": "@jupyter-widgets/controls",
            "_model_module_version": "1.5.0",
            "_model_name": "FileUploadModel",
            "_view_count": null,
            "_view_module": "@jupyter-widgets/controls",
            "_view_module_version": "1.5.0",
            "_view_name": "FileUploadView",
            "accept": ".txt",
            "button_style": "",
            "data": [
              null
            ],
            "description": "Upload",
            "description_tooltip": null,
            "disabled": false,
            "error": "",
            "icon": "upload",
            "layout": "IPY_MODEL_32bea449639648d4af64d8707f54289c",
            "metadata": [
              {
                "name": "hg19.chrom.sizes.txt",
                "type": "text/plain",
                "size": 30,
                "lastModified": 1687947484087
              }
            ],
            "multiple": false,
            "style": "IPY_MODEL_43a319180ddb4242828272ca4b4e6992"
          }
        },
        "32bea449639648d4af64d8707f54289c": {
          "model_module": "@jupyter-widgets/base",
          "model_name": "LayoutModel",
          "model_module_version": "1.2.0",
          "state": {
            "_model_module": "@jupyter-widgets/base",
            "_model_module_version": "1.2.0",
            "_model_name": "LayoutModel",
            "_view_count": null,
            "_view_module": "@jupyter-widgets/base",
            "_view_module_version": "1.2.0",
            "_view_name": "LayoutView",
            "align_content": null,
            "align_items": null,
            "align_self": null,
            "border": null,
            "bottom": null,
            "display": null,
            "flex": null,
            "flex_flow": null,
            "grid_area": null,
            "grid_auto_columns": null,
            "grid_auto_flow": null,
            "grid_auto_rows": null,
            "grid_column": null,
            "grid_gap": null,
            "grid_row": null,
            "grid_template_areas": null,
            "grid_template_columns": null,
            "grid_template_rows": null,
            "height": null,
            "justify_content": null,
            "justify_items": null,
            "left": null,
            "margin": null,
            "max_height": null,
            "max_width": null,
            "min_height": null,
            "min_width": null,
            "object_fit": null,
            "object_position": null,
            "order": null,
            "overflow": null,
            "overflow_x": null,
            "overflow_y": null,
            "padding": null,
            "right": null,
            "top": null,
            "visibility": null,
            "width": null
          }
        },
        "43a319180ddb4242828272ca4b4e6992": {
          "model_module": "@jupyter-widgets/controls",
          "model_name": "ButtonStyleModel",
          "model_module_version": "1.5.0",
          "state": {
            "_model_module": "@jupyter-widgets/controls",
            "_model_module_version": "1.5.0",
            "_model_name": "ButtonStyleModel",
            "_view_count": null,
            "_view_module": "@jupyter-widgets/base",
            "_view_module_version": "1.2.0",
            "_view_name": "StyleView",
            "button_color": null,
            "font_weight": ""
          }
        }
      }
    }
  },
  "cells": [
    {
      "cell_type": "markdown",
      "metadata": {
        "id": "view-in-github",
        "colab_type": "text"
      },
      "source": [
        "<a href=\"https://colab.research.google.com/github/Madund3ad/Association/blob/main/Template.ipynb\" target=\"_parent\"><img src=\"https://colab.research.google.com/assets/colab-badge.svg\" alt=\"Open In Colab\"/></a>"
      ]
    },
    {
      "cell_type": "markdown",
      "source": [
        "##Association"
      ],
      "metadata": {
        "id": "KxOOaRe6HexZ"
      }
    },
    {
      "cell_type": "markdown",
      "source": [
        "Загрузка модуля"
      ],
      "metadata": {
        "id": "wQFZ5UMxuCH5"
      }
    },
    {
      "cell_type": "code",
      "execution_count": 1,
      "metadata": {
        "colab": {
          "base_uri": "https://localhost:8080/"
        },
        "id": "TxE83dQPnL8z",
        "outputId": "6ece959c-8999-433e-fa12-7445fb58c298"
      },
      "outputs": [
        {
          "output_type": "stream",
          "name": "stdout",
          "text": [
            "Cloning into 'Association'...\n",
            "remote: Enumerating objects: 97, done.\u001b[K\n",
            "remote: Counting objects: 100% (97/97), done.\u001b[K\n",
            "remote: Compressing objects: 100% (93/93), done.\u001b[K\n",
            "remote: Total 97 (delta 35), reused 0 (delta 0), pack-reused 0\u001b[K\n",
            "Unpacking objects: 100% (97/97), 33.23 KiB | 1.33 MiB/s, done.\n"
          ]
        }
      ],
      "source": [
        "#!rm -rf /content/Association\n",
        "!git clone https://github.com/Madund3ad/Association.git"
      ]
    },
    {
      "cell_type": "code",
      "source": [
        "import ipywidgets as widgets\n",
        "import sys\n",
        "sys.path.insert(0,'/content/Association/')\n",
        "from pathlib import Path"
      ],
      "metadata": {
        "id": "TalAWZMHmIhn"
      },
      "execution_count": 55,
      "outputs": []
    },
    {
      "cell_type": "code",
      "source": [
        "!pip install -Iv rpy2==3.4.2"
      ],
      "metadata": {
        "id": "nYZRwG54rSBX"
      },
      "execution_count": null,
      "outputs": []
    },
    {
      "cell_type": "code",
      "source": [
        "%load_ext rpy2.ipython"
      ],
      "metadata": {
        "id": "J39uVQq0nOmu"
      },
      "execution_count": 4,
      "outputs": []
    },
    {
      "cell_type": "markdown",
      "source": [
        "Установка пакетов"
      ],
      "metadata": {
        "id": "OeEU42tWZm-Q"
      }
    },
    {
      "cell_type": "code",
      "source": [
        "%%R\n",
        "if (!require('BiocManager', quietly = TRUE))\n",
        "    install.packages('BiocManager')\n",
        "BiocManager::install(\"GenomicFeatures\")\n",
        "BiocManager::install(\"rtracklayer\")\n",
        "BiocManager::install(\"regioneR\")\n",
        "install.packages(\"curl\")\n",
        "install.packages(\"doParallel\")\n",
        "install.packages('optparse')"
      ],
      "metadata": {
        "id": "cRHw9jAYncmz"
      },
      "execution_count": null,
      "outputs": []
    },
    {
      "cell_type": "code",
      "source": [
        "# Changeable\n",
        "PATH_TO_INPUT_BED_DIR = Path(\"./input/\")\n",
        "PATH_TO_INPUT_GENOME_DIR = Path(\"./genome/\")"
      ],
      "metadata": {
        "id": "el6yfVsSlnsD"
      },
      "execution_count": 63,
      "outputs": []
    },
    {
      "cell_type": "markdown",
      "source": [
        "Загрузка файлов с аннотацией в формате bed"
      ],
      "metadata": {
        "id": "6c_NKUtmtLb8"
      }
    },
    {
      "cell_type": "code",
      "source": [
        "upload_annotation = widgets.FileUpload(\n",
        "    accept='.bed',\n",
        "    multiple=True\n",
        ")\n",
        "display(upload_annotation)"
      ],
      "metadata": {
        "colab": {
          "base_uri": "https://localhost:8080/",
          "height": 49,
          "referenced_widgets": [
            "0b373d530f0e48fb8fa541f52bff3ae5",
            "db65f7ae2aa9491ba2375000f0633ec0",
            "53d3933b678e483e8aa4ea1072f25e4b"
          ]
        },
        "id": "UODPo3c5k4BQ",
        "outputId": "96409ed7-3525-4b26-8689-61e79b51b3aa"
      },
      "execution_count": 98,
      "outputs": [
        {
          "output_type": "display_data",
          "data": {
            "text/plain": [
              "FileUpload(value={}, accept='.bed', description='Upload', multiple=True)"
            ],
            "application/vnd.jupyter.widget-view+json": {
              "version_major": 2,
              "version_minor": 0,
              "model_id": "0b373d530f0e48fb8fa541f52bff3ae5"
            }
          },
          "metadata": {}
        }
      ]
    },
    {
      "cell_type": "code",
      "source": [
        "DATA_DIR_NAME = list(upload_annotation.value)[0].rsplit('.', maxsplit=2)[0]\n",
        "for filename in upload_annotation.value:\n",
        "  path_to_input_file = (\n",
        "      PATH_TO_INPUT_BED_DIR / filename\n",
        "  )\n",
        "  path_to_input_file.parent.mkdir(parents=True, exist_ok=True)\n",
        "  with open(path_to_input_file, 'wb') as f_out:\n",
        "    content = upload_annotation.value[filename]['content']\n",
        "    f_out.write(content)"
      ],
      "metadata": {
        "id": "KoHJqGnOl-Wf"
      },
      "execution_count": 85,
      "outputs": []
    },
    {
      "cell_type": "code",
      "source": [
        "for uploaded_filename in upload_annotation.value:\n",
        "  print(f\"Аnnotation \\\"{uploaded_filename}\\\" was successfullly uploaded.\")"
      ],
      "metadata": {
        "colab": {
          "base_uri": "https://localhost:8080/"
        },
        "id": "crtrTHPdv0Xs",
        "outputId": "34357ca2-e50b-419c-d983-e2ea84f71017"
      },
      "execution_count": 99,
      "outputs": [
        {
          "output_type": "stream",
          "name": "stdout",
          "text": [
            "Аnnotation \"f1.bed\" was successfullly uploaded.\n",
            "Аnnotation \"f2.bed\" was successfullly uploaded.\n"
          ]
        }
      ]
    },
    {
      "cell_type": "markdown",
      "source": [
        "Загрузка файла с размерами хромосом"
      ],
      "metadata": {
        "id": "sX6VA-a2tQmX"
      }
    },
    {
      "cell_type": "code",
      "source": [
        "upload_chrom = widgets.FileUpload(\n",
        "    accept='.txt',\n",
        "    multiple=False\n",
        ")\n",
        "\n",
        "display(upload_chrom)"
      ],
      "metadata": {
        "colab": {
          "base_uri": "https://localhost:8080/",
          "height": 49,
          "referenced_widgets": [
            "30ae7ad9af3b4005a1a2d94f30ae2fb1",
            "32bea449639648d4af64d8707f54289c",
            "43a319180ddb4242828272ca4b4e6992"
          ]
        },
        "id": "-ewEuvttoG6D",
        "outputId": "3d80c408-ae5b-4ef5-97d4-1d6e2abedd59"
      },
      "execution_count": 96,
      "outputs": [
        {
          "output_type": "display_data",
          "data": {
            "text/plain": [
              "FileUpload(value={}, accept='.txt', description='Upload')"
            ],
            "application/vnd.jupyter.widget-view+json": {
              "version_major": 2,
              "version_minor": 0,
              "model_id": "30ae7ad9af3b4005a1a2d94f30ae2fb1"
            }
          },
          "metadata": {}
        }
      ]
    },
    {
      "cell_type": "code",
      "source": [
        "chrom=list(upload_chrom.value)[0]\n",
        "path_to_input_file = (\n",
        "      PATH_TO_INPUT_GENOME_DIR / chrom)\n",
        "path_to_input_file.parent.mkdir(parents=True, exist_ok=True)\n",
        "with open(path_to_input_file, 'wb') as f_out:\n",
        "    content = upload_chrom.value[chrom]['content']\n",
        "    f_out.write(content)"
      ],
      "metadata": {
        "id": "uspWcGvWoseN"
      },
      "execution_count": 83,
      "outputs": []
    },
    {
      "cell_type": "code",
      "source": [
        "for uploaded_filename in upload_chrom.value:\n",
        "  print(f\"Chrom sizes file \\\"{uploaded_filename}\\\" was successfullly uploaded.\")"
      ],
      "metadata": {
        "colab": {
          "base_uri": "https://localhost:8080/"
        },
        "id": "8QBlIZPMv7e8",
        "outputId": "5b0240a6-f32f-4e17-e752-53b6de2b08a2"
      },
      "execution_count": 95,
      "outputs": [
        {
          "output_type": "stream",
          "name": "stdout",
          "text": [
            "Chrom sizes file \"hg19.chrom.sizes.txt\" was successfullly uploaded.\n"
          ]
        }
      ]
    },
    {
      "cell_type": "markdown",
      "source": [
        "Запуск модуля с параметрами по-умолчанию"
      ],
      "metadata": {
        "id": "YJZl6WpMtb2d"
      }
    },
    {
      "cell_type": "code",
      "source": [
        "!Rscript ./Association/Association/main_assoc.R -i ./input/ -c ./genome/{chrom}"
      ],
      "metadata": {
        "colab": {
          "base_uri": "https://localhost:8080/"
        },
        "id": "002IMJjuppkF",
        "outputId": "4063d2d7-643c-4e0c-9d97-9d02cd0028e0"
      },
      "execution_count": 80,
      "outputs": [
        {
          "output_type": "stream",
          "name": "stdout",
          "text": [
            "output path is not provided writing to /content/storage\n",
            "Usage: ./Association/Association/main_assoc.R [options]\n",
            "\n",
            "\n",
            "Options:\n",
            "\t-i <INPUT DIR>, --dir=<INPUT DIR>\n",
            "\t\tpath to input folder with bed files\n",
            "\n",
            "\t-o <PATH>, --out=<PATH>\n",
            "\t\toutput files directory [default= NULL]\n",
            "\n",
            "\t-g <GENOME.GTF>, --genome=<GENOME.GTF>\n",
            "\t\tpath to genome annotation file\n",
            "\n",
            "\t-c CHROM.SIZES, --chrom=CHROM.SIZES\n",
            "\t\tpath to chrom sizes file\n",
            "\n",
            "\t-v, --verbose\n",
            "\t\tverbosity level [default= FALSE]\n",
            "\n",
            "\t-p, --simulate\n",
            "\t\tenable simulated p-value\n",
            "\n",
            "\t-n NUMERIC, --nsim=NUMERIC\n",
            "\t\tnumber of simulations [default= 1000]\n",
            "\n",
            "\t-m CHARACTER, --mode=CHARACTER\n",
            "\t\tset scoring mode\n",
            "              region - use number of overlapping regions \n",
            "              bp - use overlap size \n",
            "              weighted_bp use score column\n",
            "\n",
            "\t-s, --strand\n",
            "\t\ttake strand into consideration\n",
            "\n",
            "\t-t CHARACTER, --target=CHARACTER\n",
            "\t\tpath to target file in one vs many mode\n",
            "\n",
            "\t-k MASK.BED, --mask=MASK.BED\n",
            "\t\tpath to mask file\n",
            "\n",
            "\t-h, --help\n",
            "\t\tShow this help message and exit\n",
            "\n",
            "\n",
            "genome file is not suppliedUsing parameters:\n",
            "dir = ./input/ \n",
            "chrom = ./genome/hg19.chrom.sizes.txt \n",
            "verbose = FALSE \n",
            "simulate = FALSE \n",
            "nsim = 1000 \n",
            "mode = region \n",
            "strand = FALSE \n",
            "help = FALSE \n",
            "\u001b[?25h\u001b[?25h\u001b[?25h\u001b[?25h\u001b[?25h\u001b[?25h\u001b[?25h\u001b[?25h\u001b[?25h\u001b[?25h\u001b[?25h\u001b[?25h\u001b[?25h\u001b[?25h\u001b[?25h\u001b[?25h\u001b[?25h\u001b[?25h\u001b[?25h[1] \"2023-06-28 11:14:27.39624 Starting in many vs many mode\"\n",
            "Warning messages:\n",
            "1: In read.table(con, colClasses = bedClasses, as.is = TRUE, na.strings = c(\".\",  :\n",
            "  incomplete final line found by readTableHeader on './input//f1.bed'\n",
            "2: In read.table(con, colClasses = bedClasses, as.is = TRUE, na.strings = c(\".\",  :\n",
            "  incomplete final line found by readTableHeader on './input//f1.bed'\n",
            "3: In read.table(con, colClasses = bedClasses, as.is = TRUE, na.strings = c(\".\",  :\n",
            "  incomplete final line found by readTableHeader on './input//f2.bed'\n",
            "4: In read.table(file = file, header = header, sep = sep, quote = quote,  :\n",
            "  incomplete final line found by readTableHeader on './genome/hg19.chrom.sizes.txt'\n",
            "5: In chisq.test(m, simulate.p.value = simulate.p.value) :\n",
            "  Chi-squared approximation may be incorrect\n",
            "6: In read.table(file = file, header = header, sep = sep, quote = quote,  :\n",
            "  incomplete final line found by readTableHeader on './genome/hg19.chrom.sizes.txt'\n",
            "7: In chisq.test(m, simulate.p.value = simulate.p.value) :\n",
            "  Chi-squared approximation may be incorrect\n",
            "8: In read.table(con, colClasses = bedClasses, as.is = TRUE, na.strings = c(\".\",  :\n",
            "  incomplete final line found by readTableHeader on './input//f2.bed'\n",
            "9: In read.table(con, colClasses = bedClasses, as.is = TRUE, na.strings = c(\".\",  :\n",
            "  incomplete final line found by readTableHeader on './input//f2.bed'\n",
            "\u001b[?25h\u001b[?25h\u001b[?25h\u001b[?25h\u001b[?25h\u001b[?25h\u001b[?25h\u001b[?25h\u001b[?25h"
          ]
        }
      ]
    },
    {
      "cell_type": "markdown",
      "source": [
        "Вывод результатов"
      ],
      "metadata": {
        "id": "MeuQqwrAtmf8"
      }
    },
    {
      "cell_type": "code",
      "source": [
        "!cat ./storage/results.csv"
      ],
      "metadata": {
        "colab": {
          "base_uri": "https://localhost:8080/"
        },
        "id": "bcKq4hfBsYLb",
        "outputId": "9134438c-8118-41e2-f8d0-a82ef8d39e32"
      },
      "execution_count": 97,
      "outputs": [
        {
          "output_type": "stream",
          "name": "stdout",
          "text": [
            "file_name\tf1\tf1_pr\tf1_p\tf2\tf2_pr\tf2_p\n",
            "f1\t2\t100 %\t-\t1\t50 %\t0\n",
            "f2\t1\t50 %\t0\t2\t100 %\t-\n"
          ]
        }
      ]
    },
    {
      "cell_type": "markdown",
      "source": [
        "Arguments\n",
        "\n",
        "    -i , --dir\n",
        "            path to folder with bed files\n",
        "    -o , --out\n",
        "            output files directory [default= NULL]\n",
        "    -g , --genome\n",
        "            path to genome file\n",
        "    -c , --chrom\n",
        "            path to chrom sizes file\n",
        "    -v, --verbose\n",
        "            verbosity level [default= FALSE]\n",
        "    -p, --simulate\n",
        "            enable simulated p-value\n",
        "    -n NUMERIC, --nsim=NUMERIC\n",
        "            number of simulations [default= 1000]\n",
        "    -m CHARACTER, --mode=CHARACTER\n",
        "            set scoring mode\n",
        "          region - use number of overlapping regions (default)\n",
        "          bp - use overlap size\n",
        "          weighted_bp use score column\n",
        "    -s , --strand\n",
        "            ignore strands\n",
        "    -t , --target\n",
        "            path to target file in one vs many mode\n",
        "    -h, --help\n",
        "            Show this help message and exit"
      ],
      "metadata": {
        "id": "YwcHO-BdHoDR"
      }
    }
  ]
}